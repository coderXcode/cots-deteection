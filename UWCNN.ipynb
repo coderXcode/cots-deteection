{
 "cells": [
  {
   "cell_type": "code",
   "execution_count": 1,
   "id": "bce8505e-5c97-4749-b109-d30a36dda63f",
   "metadata": {},
   "outputs": [
    {
     "name": "stderr",
     "output_type": "stream",
     "text": [
      "Cloning into 'UWCNN'...\n"
     ]
    }
   ],
   "source": [
    "!git clone https://github.com/saeed-anwar/UWCNN.git"
   ]
  },
  {
   "cell_type": "code",
   "execution_count": null,
   "id": "8bf80b70-1ba9-47cc-98d2-ebd73b95f0c1",
   "metadata": {},
   "outputs": [],
   "source": []
  }
 ],
 "metadata": {
  "kernelspec": {
   "display_name": "Python 3 (ipykernel)",
   "language": "python",
   "name": "python3"
  },
  "language_info": {
   "codemirror_mode": {
    "name": "ipython",
    "version": 3
   },
   "file_extension": ".py",
   "mimetype": "text/x-python",
   "name": "python",
   "nbconvert_exporter": "python",
   "pygments_lexer": "ipython3",
   "version": "3.9.7"
  }
 },
 "nbformat": 4,
 "nbformat_minor": 5
}
